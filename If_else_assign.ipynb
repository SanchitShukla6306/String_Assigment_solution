{
 "cells": [
  {
   "cell_type": "markdown",
   "id": "5bc05376-fabe-4328-a28a-a729e492d329",
   "metadata": {},
   "source": [
    "Q1. Write a program to calculate the electricity bill using only if statement? (accept number of unit from user)  \n"
   ]
  },
  {
   "cell_type": "raw",
   "id": "f0b2bfe0-e4a1-471b-be1c-33dee183cd79",
   "metadata": {},
   "source": [
    "#according to the following criteria: \n",
    "Unit                                   Price\n",
    "First 100 units                        no charge \n",
    "Next 100 units                         Rs 5 per unit                                              \n",
    "After 200 units                        Rs 10 per unit                    \n",
    "(For example, if input unit is 350 than total bill amount is Rs2000). \n",
    "Lets explain… \n",
    "For first 100 no charges \n",
    "Now you have 250 unit remaining \n",
    "100-200 you need to pay – 100*5 = 500 \n",
    "Now 200-350 you need to pay 150*10 = 1500 \n",
    "Total = 500+1500 = 2000"
   ]
  },
  {
   "cell_type": "code",
   "execution_count": 59,
   "id": "054bebb2-77f2-46e6-94e7-8da4618d0e76",
   "metadata": {},
   "outputs": [
    {
     "name": "stdin",
     "output_type": "stream",
     "text": [
      "Enter the number of units consumed:   200\n"
     ]
    },
    {
     "name": "stdout",
     "output_type": "stream",
     "text": [
      "Total electricity bill: ₹500\n"
     ]
    }
   ],
   "source": [
    "units = int(input(\"Enter the number of units consumed:  \"))\n",
    "\n",
    "# Initialize the bill amount\n",
    "bill = 0\n",
    "\n",
    "# Calculate the bill based on the given criteria\n",
    "if units > 200:\n",
    "    bill += (units - 200) * 10  #charge after 200\n",
    "    units = 200\n",
    "if units > 100:\n",
    "    bill += (units - 100) * 5  # charge  for the next 100 \n",
    "    units = 100\n",
    "if units <= 100:\n",
    "    bill += 0                  # No charge for the first 100 units\n",
    "\n",
    "print(f\"Total electricity bill: ₹{bill}\")"
   ]
  },
  {
   "cell_type": "markdown",
   "id": "d9f003c1-c235-4211-929c-52667d968fb6",
   "metadata": {},
   "source": [
    "Q2. Write a program to accept percentage from the user and display the grade according to the following criteria:"
   ]
  },
  {
   "cell_type": "raw",
   "id": "d5e6fbeb-0d24-4029-b7f9-b3bd333abf78",
   "metadata": {},
   "source": [
    "Marks                                     Grade                               \n",
    "> 90                                        A \n",
    "> 80 and <= 90                              B          \n",
    ">= 60 and <= 80                             C      \n",
    "below 60                                    D              "
   ]
  },
  {
   "cell_type": "code",
   "execution_count": 67,
   "id": "89dfc8df-bef6-482d-9b7f-60f324f9c4ec",
   "metadata": {},
   "outputs": [
    {
     "name": "stdin",
     "output_type": "stream",
     "text": [
      "Enter the percentage :  95\n"
     ]
    },
    {
     "name": "stdout",
     "output_type": "stream",
     "text": [
      "Grade A\n"
     ]
    }
   ],
   "source": [
    "Percentage = int(input(\"Enter the percentage : \"))\n",
    "if Percentage>90:\n",
    "    print(\"Grade A\")\n",
    "if Percentage>80 and Percentage<=90:\n",
    "    print(\"Grade B\")\n",
    "if Percentage>=60 and Percentage<=80:\n",
    "    print(\"Grade C\")\n",
    "if Percentage<60:\n",
    "    print(\"Grade D\")"
   ]
  },
  {
   "cell_type": "markdown",
   "id": "8fa56247-a663-4dff-b03a-6c3b31cda7ee",
   "metadata": {},
   "source": [
    "Q3. Accept the age of 4 people and display the youngest one?"
   ]
  },
  {
   "cell_type": "code",
   "execution_count": 81,
   "id": "28790fd5-90a6-420f-ad50-c173e48e32f7",
   "metadata": {},
   "outputs": [
    {
     "name": "stdin",
     "output_type": "stream",
     "text": [
      "enter the age of 1st person:  12\n",
      "enter the age of 2nd person:  47\n",
      "enter the age of 3rd person:  45\n",
      "enter the age of 4th person:  63\n"
     ]
    },
    {
     "name": "stdout",
     "output_type": "stream",
     "text": [
      "1st person is younger\n"
     ]
    }
   ],
   "source": [
    "Age1 = int(input(\"enter the age of 1st person: \"))\n",
    "Age2 = int(input(\"enter the age of 2nd person: \"))\n",
    "Age3 = int(input(\"enter the age of 3rd person: \"))\n",
    "Age4 = int(input(\"enter the age of 4th person: \"))\n",
    "\n",
    "if(Age1<Age2) and (Age1<Age3) and (Age1<Age4):\n",
    "    print(\"1st person is younger\")\n",
    "if(Age2<Age3) and (Age2<Age4) and (Age2<Age1):\n",
    "    print(\"2nd person is younger\")\n",
    "if(Age3<Age4) and (Age3<Age2) and (Age3<Age1):\n",
    "    print(\"3rd person is younger\")\n",
    "if(Age4<Age1) and (Age4<Age2) and (Age4>Age3):\n",
    "    print(\"4th person is younger\")\n"
   ]
  },
  {
   "cell_type": "markdown",
   "id": "1cde9e23-a13f-4669-a078-67f69042072d",
   "metadata": {},
   "source": [
    "Q4. A company decided to give bonus to employee according to following criteria: "
   ]
  },
  {
   "cell_type": "raw",
   "id": "d9670d2d-87b3-4cfc-9fa5-fdcee0e1e971",
   "metadata": {},
   "source": [
    "Time period of Service       Bonus                   \n",
    "More than 10 years            10% \n",
    ">=6 and <=10                  8%              \n",
    "Less than 6 years             5%               \n",
    " \n",
    "Ask user for their salary and years of service and print the net bonus amount?"
   ]
  },
  {
   "cell_type": "code",
   "execution_count": 83,
   "id": "582ce908-c8e0-472f-aeea-79eda941cf16",
   "metadata": {},
   "outputs": [
    {
     "name": "stdin",
     "output_type": "stream",
     "text": [
      "Enter your Salary:  25000\n",
      "Enter the year of Service:  5\n"
     ]
    },
    {
     "name": "stdout",
     "output_type": "stream",
     "text": [
      "Net bonus amount is :  26250.0\n"
     ]
    }
   ],
   "source": [
    "Salary = int(input(\"Enter your Salary: \"))\n",
    "Year = int(input(\"Enter the year of Service: \"))\n",
    "\n",
    "if Year>10:\n",
    "    print(\"Net bonus amount is : \",(Salary*10)/100 + Salary)\n",
    "if Year>=6 and Year<=10:\n",
    "    print(\"Net bonus amount is : \",(Salary*8)/100 + Salary)\n",
    "if Year<6:\n",
    "    print(\"Net bonus amount is : \",(Salary*5)/100 + Salary)"
   ]
  },
  {
   "cell_type": "markdown",
   "id": "9a3e5c61-1d33-4320-b838-1d49ad3adecf",
   "metadata": {},
   "source": [
    "Q5. Accept three numbers from the user and display the second largest number?"
   ]
  },
  {
   "cell_type": "code",
   "execution_count": 3,
   "id": "189ddcb6-3e9a-4da6-85bd-ebe2d7888b48",
   "metadata": {},
   "outputs": [
    {
     "name": "stdin",
     "output_type": "stream",
     "text": [
      "Enter the first number:  12\n",
      "Enter the Second number:  15\n",
      "Enter the Third number:  16\n"
     ]
    },
    {
     "name": "stdout",
     "output_type": "stream",
     "text": [
      "The three numbers are: 12, 15, 16\n",
      "The second largest number is: 15\n"
     ]
    }
   ],
   "source": [
    "num1 = int(input(\"Enter the first number: \"))\n",
    "num2 = int(input(\"Enter the Second number: \"))\n",
    "num3 = int(input(\"Enter the Third number: \"))\n",
    "\n",
    "if num1 > num2 and num1 > num3:\n",
    "    # 'a' is the largest, so the second largest is the greater of 'b' and 'c'\n",
    "    if num2 > num3:\n",
    "        second_largest = num2\n",
    "    else:\n",
    "        second_largest = num3\n",
    "elif num2 > num1 and num2 > num3:\n",
    "    # 'b' is the largest, so the second largest is the greater of 'a' and 'c'\n",
    "    if num1 > num3:\n",
    "        second_largest = num1\n",
    "    else:\n",
    "        second_largest = num3\n",
    "else:\n",
    "    # 'c' is the largest, so the second largest is the greater of 'a' and 'b'\n",
    "    if num1 > num2:\n",
    "        second_largest = num1\n",
    "    else:\n",
    "        second_largest = num2\n",
    "\n",
    "print(f\"The three numbers are: {num1}, {num2}, {num3}\")\n",
    "print(f\"The second largest number is: {second_largest}\")\n",
    "\n",
    "\n",
    "\n",
    "\n",
    "\n"
   ]
  },
  {
   "cell_type": "markdown",
   "id": "8224b027-0eee-4569-8d96-61fbd079d45d",
   "metadata": {},
   "source": [
    "Q6.Accept the marked price from the user and calculate the Net amount as (Marked Price –    Discount) to pay "
   ]
  },
  {
   "cell_type": "raw",
   "id": "14de39f8-98ae-439e-8493-e686e5edb622",
   "metadata": {},
   "source": [
    "According to following criteria:          \n",
    "Marked Price                        Discount \n",
    ">10000                              20%            \n",
    ">7000 and <=10000                   15% \n",
    "<=7000                              10%\n"
   ]
  },
  {
   "cell_type": "code",
   "execution_count": 13,
   "id": "df7f13c0-758e-4d6c-b830-65ef00080967",
   "metadata": {},
   "outputs": [
    {
     "name": "stdin",
     "output_type": "stream",
     "text": [
      "Enter the marked price :  15000000000\n"
     ]
    },
    {
     "name": "stdout",
     "output_type": "stream",
     "text": [
      "Net amount is :  12000000000.0\n"
     ]
    }
   ],
   "source": [
    "marked_price = int(input(\"Enter the marked price : \"))\n",
    "\n",
    "\n",
    "if marked_price > 10000:\n",
    "    print(\"Net amount is : \", marked_price - ((marked_price*20)/100))\n",
    "if marked_price > 7000 and marked_price <= 10000:                                        #if used if first condition is true all are print\n",
    "          print(\"Net amount is : \", marked_price - ((marked_price*15)/100))\n",
    "if marked_price <= 7000:\n",
    "                print(\"Net amount is : \", marked_price - ((marked_price*10)/100))"
   ]
  },
  {
   "cell_type": "markdown",
   "id": "64eebf3d-2f38-463f-b606-a6f1bd779a96",
   "metadata": {},
   "source": [
    "Q7. Accept the marks of English, Math and Science, Social Studies Subject and display the stream allotted  \n",
    "according to following:"
   ]
  },
  {
   "cell_type": "raw",
   "id": "bb914597-49a9-41bb-9410-835fb1f758b4",
   "metadata": {},
   "source": [
    "All Subjects more than 80 marks                Science Stream \n",
    "English >80 and Math, Science above 50   —      Commerce Stream \n",
    "English > 80 and social studies > 80    —       Humanities         \n"
   ]
  },
  {
   "cell_type": "code",
   "execution_count": 3,
   "id": "c2e635e3-dc56-4aed-962a-9c4c2eed5ce4",
   "metadata": {},
   "outputs": [
    {
     "name": "stdin",
     "output_type": "stream",
     "text": [
      "Enter the marks of english :  56\n",
      "Enter the marks of maths :  56\n",
      "Enter the marks of science :  56\n",
      "Enter the marks of social :  56\n"
     ]
    },
    {
     "name": "stdout",
     "output_type": "stream",
     "text": [
      "No stream allocated \n"
     ]
    }
   ],
   "source": [
    "english_marks = int(input(\"Enter the marks of english : \"))\n",
    "maths_marks = int(input(\"Enter the marks of maths : \"))\n",
    "science_marks = int(input(\"Enter the marks of science : \"))\n",
    "social_marks = int(input(\"Enter the marks of social : \"))\n",
    "\n",
    "if english_marks > 80 and maths_marks > 80 and science_marks > 80 and social_marks > 80:\n",
    "    print(\"Stream allocated : Science\")\n",
    "elif english_marks > 80 and maths_marks > 50 and science_marks > 50:   # elif used if first condition is not true then run down code \n",
    "    print(\"Stream allocated : Commerce\")\n",
    "elif english_marks > 80 and social_marks > 80:\n",
    "    print(\"Stream allocated : Humanities\")\n",
    "else:\n",
    "    print(\"No stream allocated \")"
   ]
  },
  {
   "cell_type": "markdown",
   "id": "64332662-02a0-4143-87da-8bd2c97ab0e8",
   "metadata": {},
   "source": [
    "Q8. Write a program to display \"Hello\" if a number entered by user is a multiple of five, otherwise print \"Bye\"?"
   ]
  },
  {
   "cell_type": "code",
   "execution_count": 23,
   "id": "95609a90-c669-465b-996e-fe8b623707a0",
   "metadata": {},
   "outputs": [
    {
     "name": "stdin",
     "output_type": "stream",
     "text": [
      "Enter the number :  56\n"
     ]
    },
    {
     "name": "stdout",
     "output_type": "stream",
     "text": [
      "Bye\n"
     ]
    }
   ],
   "source": [
    "number = int(input(\"Enter the number : \"))\n",
    "\n",
    "if number % 5 == 0:\n",
    "    print(\"Hello\")\n",
    "else:\n",
    "    print(\"Bye\")"
   ]
  },
  {
   "cell_type": "markdown",
   "id": "1f3e6280-d390-4505-9da8-762c5b60c0f8",
   "metadata": {},
   "source": [
    "Q9. Write a program to check whether the last digit of a number (entered by user) is divisible by 3 or not? "
   ]
  },
  {
   "cell_type": "code",
   "execution_count": 7,
   "id": "c032d521-0736-4f9e-8918-eb8b9844b4d5",
   "metadata": {},
   "outputs": [
    {
     "name": "stdin",
     "output_type": "stream",
     "text": [
      "Enter any number :  50\n"
     ]
    },
    {
     "name": "stdout",
     "output_type": "stream",
     "text": [
      "The input number is divisible by 3\n"
     ]
    }
   ],
   "source": [
    "number = int(input(\"Enter any number : \"))\n",
    "num = number % 10\n",
    "\n",
    "if num % 3 == 0:\n",
    "    print(\"The input number is divisible by 3\")\n",
    "else:\n",
    "    print(\"The input number is not divisible by 3\")\n"
   ]
  },
  {
   "cell_type": "markdown",
   "id": "c10d30ce-9654-43dd-ba27-5795180c796e",
   "metadata": {},
   "source": [
    "Q10. Write a program to check whether a number entered is three-digit number or not?"
   ]
  },
  {
   "cell_type": "code",
   "execution_count": 10,
   "id": "ff26b447-398b-40a3-9f47-3159c0c5f308",
   "metadata": {},
   "outputs": [
    {
     "name": "stdin",
     "output_type": "stream",
     "text": [
      "Enter the number :  1\n"
     ]
    },
    {
     "name": "stdout",
     "output_type": "stream",
     "text": [
      "Entered number is not a three digit number\n"
     ]
    }
   ],
   "source": [
    "num = int(input(\"Enter the number : \"))\n",
    "\n",
    "if 100 <= num and 999 >= num:\n",
    "    print(\"Entered number is a three digit number\")\n",
    "else:\n",
    "    print(\"Entered number is not a three digit number\")\n"
   ]
  },
  {
   "cell_type": "markdown",
   "id": "18ebf192-b386-4a82-8e39-e4837cfeea77",
   "metadata": {},
   "source": [
    "Q1. Write a program to calculate the electricity bill using only if statement? (accept number of unit from user)"
   ]
  },
  {
   "cell_type": "code",
   "execution_count": null,
   "id": "b9e6c674-beca-404f-8d7f-d5dd4acbc26c",
   "metadata": {},
   "outputs": [],
   "source": [
    "\n",
    "units = int(input(\"enter the number of units\"))\n",
    "bill = 0\n",
    "\n",
    "if units > 200:\n",
    "    bill += (units - 200) * 10\n",
    "    units=200\n",
    "\n",
    "if units > 100:\n",
    "    bill += (units - 100)*5\n",
    "\n",
    "print(f\"total bill amount is Rs {bill}\")"
   ]
  },
  {
   "cell_type": "code",
   "execution_count": null,
   "id": "c8ba8f64-fc19-4746-a3b7-a5aa97d6dc18",
   "metadata": {},
   "outputs": [],
   "source": []
  }
 ],
 "metadata": {
  "kernelspec": {
   "display_name": "Python 3 (ipykernel)",
   "language": "python",
   "name": "python3"
  },
  "language_info": {
   "codemirror_mode": {
    "name": "ipython",
    "version": 3
   },
   "file_extension": ".py",
   "mimetype": "text/x-python",
   "name": "python",
   "nbconvert_exporter": "python",
   "pygments_lexer": "ipython3",
   "version": "3.13.5"
  }
 },
 "nbformat": 4,
 "nbformat_minor": 5
}
