{
 "cells": [
  {
   "cell_type": "markdown",
   "id": "46aaa3b1-19aa-4fb6-a617-0120dfa8b14b",
   "metadata": {},
   "source": [
    "# Q1. How do you concatenate two strings in Python?\n"
   ]
  },
  {
   "cell_type": "markdown",
   "id": "8e02e170-8cdc-47dd-b689-2ecd592b8626",
   "metadata": {},
   "source": [
    "Ans.  In python , we can apply the \"+\" method for concatenate two strings."
   ]
  },
  {
   "cell_type": "code",
   "execution_count": 11,
   "id": "e92e4f8b-e7d8-4a48-af58-79210a66dced",
   "metadata": {},
   "outputs": [
    {
     "name": "stdout",
     "output_type": "stream",
     "text": [
      "Sanchit Shukla\n"
     ]
    }
   ],
   "source": [
    "str1 = \"Sanchit\"                  #first string\n",
    "str2 = \"Shukla\"                   #second string\n",
    "concatenate = str1 + \" \" + str2   #concatenate two string with space \n",
    "print(concatenate)                         "
   ]
  },
  {
   "cell_type": "markdown",
   "id": "4030036f-b159-41b2-9953-d991e5538df8",
   "metadata": {},
   "source": [
    "# Q2. What is the difference between the + operator and the join() method for concatenating strings?"
   ]
  },
  {
   "cell_type": "markdown",
   "id": "4c49cb6b-8010-4ac7-9dd0-f5d15a1b02b2",
   "metadata": {},
   "source": [
    "Ans. The join() method is another way to concatenate strings, especially useful when you have a list of strings to concatenate."
   ]
  },
  {
   "cell_type": "code",
   "execution_count": 15,
   "id": "9a8e1495-e66b-4e88-ba06-5f7d1c88d404",
   "metadata": {},
   "outputs": [
    {
     "name": "stdout",
     "output_type": "stream",
     "text": [
      "hello Everyone\n"
     ]
    }
   ],
   "source": [
    "string = [\"hello\", \"Everyone\"]           #list of string \n",
    "concatenate_string = \" \".join(string)    #join method for concatenate the string \n",
    "print(concatenate_string)"
   ]
  },
  {
   "cell_type": "markdown",
   "id": "9c8ae252-a30f-4b28-bead-3a3c724a1e84",
   "metadata": {},
   "source": [
    "In order to merge two strings into a single object, you may use the + operator."
   ]
  },
  {
   "cell_type": "code",
   "execution_count": 16,
   "id": "197c634a-d6dd-407a-9256-b50717fbdf72",
   "metadata": {},
   "outputs": [
    {
     "name": "stdout",
     "output_type": "stream",
     "text": [
      "Sanchit Shukla\n"
     ]
    }
   ],
   "source": [
    "str1 = \"Sanchit\"                  #first string\n",
    "str2 = \"Shukla\"                   #second string\n",
    "concatenate = str1 + \" \" + str2   #concatenate two string with space \n",
    "print(concatenate)     "
   ]
  },
  {
   "cell_type": "markdown",
   "id": "cf075426-ffd1-4de4-8d1d-11cd6c52974c",
   "metadata": {},
   "source": [
    "# Q3. How do you access individual characters in a string?"
   ]
  },
  {
   "cell_type": "markdown",
   "id": "c6f38b09-352b-4ae5-ae62-759baae275b4",
   "metadata": {},
   "source": [
    "Ans . For access the individual character in a string using a method \"indexing\". Where each character is assigned an index starting from 0."
   ]
  },
  {
   "cell_type": "code",
   "execution_count": 20,
   "id": "16e12600-d5c2-41eb-a2ac-b1a12942f3bc",
   "metadata": {},
   "outputs": [
    {
     "name": "stdout",
     "output_type": "stream",
     "text": [
      "P\n"
     ]
    }
   ],
   "source": [
    "str3 = \"Python\"         #string\n",
    "indexing = str3[0]      #indexing method for accessing the individual character\n",
    "print(indexing)         "
   ]
  },
  {
   "cell_type": "markdown",
   "id": "a7e5fd11-ab0a-4a29-aec1-ba576725671f",
   "metadata": {},
   "source": [
    "# Q4. What method is used to find the length of a string in Python?"
   ]
  },
  {
   "cell_type": "markdown",
   "id": "4fdd56bd-3bf6-47af-b7bb-82be7ae00b9f",
   "metadata": {},
   "source": [
    "Ans. We can find the length of a string in python by using a built-in function len()."
   ]
  },
  {
   "cell_type": "code",
   "execution_count": 24,
   "id": "b7b92577-ccdd-43d7-9c97-fd2d12f006b6",
   "metadata": {},
   "outputs": [
    {
     "name": "stdout",
     "output_type": "stream",
     "text": [
      "54\n"
     ]
    }
   ],
   "source": [
    "str4 = \"Satyug Darshan Institute of Engineering and Technology\"  #string\n",
    "len_str4 = len(str4)                                             #len() function \n",
    "print(len_str4)                                                               "
   ]
  },
  {
   "cell_type": "markdown",
   "id": "94a6318a-032e-4490-b05a-9c6b0443cfb3",
   "metadata": {},
   "source": [
    "# Q5. How can you convert a string to uppercase in Python?"
   ]
  },
  {
   "cell_type": "markdown",
   "id": "2807881a-0721-4e5b-aa26-44ed1fb848d0",
   "metadata": {},
   "source": [
    "Ans. We can convert the string to uppercase in python by using a built-in fuction string_name.upper() ."
   ]
  },
  {
   "cell_type": "code",
   "execution_count": 37,
   "id": "ac92ecf5-a734-473b-9b78-34059015a2f7",
   "metadata": {},
   "outputs": [
    {
     "name": "stdout",
     "output_type": "stream",
     "text": [
      "KRISHNA\n"
     ]
    }
   ],
   "source": [
    "str5 = \"krishna\"                 #string\n",
    "upper_case = str5.upper()        #string_name.upper() function\n",
    "print(upper_case)                "
   ]
  },
  {
   "cell_type": "markdown",
   "id": "06430c18-4015-4ed0-a9b2-b73fba6158ae",
   "metadata": {},
   "source": [
    "# Q6. How can you convert a string to lowercase in Python?"
   ]
  },
  {
   "cell_type": "markdown",
   "id": "8a190189-8b90-42b0-8adc-de4f7c6441a8",
   "metadata": {},
   "source": [
    "Ans. We can convert the string to lowercase in python by using a built-in function string.lower() "
   ]
  },
  {
   "cell_type": "code",
   "execution_count": 38,
   "id": "1b9de4f8-2996-4c6b-ade6-efc920e68735",
   "metadata": {},
   "outputs": [
    {
     "name": "stdout",
     "output_type": "stream",
     "text": [
      "radha\n"
     ]
    }
   ],
   "source": [
    "str6 = \"RADHA\"                   #string\n",
    "lower_case = str6.lower()        #string_name.lower() function\n",
    "print(lower_case)"
   ]
  },
  {
   "cell_type": "markdown",
   "id": "f571b3b1-3188-4c1b-9672-b8c57e4bbdb1",
   "metadata": {},
   "source": [
    "# Q7. What method is used to replace substrings within a string?"
   ]
  },
  {
   "cell_type": "markdown",
   "id": "2fbd15b7-a459-4bf7-af6d-abf0e2e9cb55",
   "metadata": {},
   "source": [
    "Ans. String_name.Replace() method is used for replace substring within a string."
   ]
  },
  {
   "cell_type": "code",
   "execution_count": 39,
   "id": "31ff2829-de10-4720-892e-bafedbb29826",
   "metadata": {},
   "outputs": [
    {
     "name": "stdout",
     "output_type": "stream",
     "text": [
      "Hi Everyone , Hi Sir\n"
     ]
    }
   ],
   "source": [
    "str7 = \"Hello Everyone , Hello Sir\"        #substring within a string\n",
    "replace = str7.replace(\"Hello\",\"Hi\")       #string_name.replace(old,new,count)\n",
    "print(replace)"
   ]
  },
  {
   "cell_type": "markdown",
   "id": "66da13a4-dca2-400d-ac0d-a16fcc7def89",
   "metadata": {},
   "source": [
    "# Q8. How can you split a string into a list of substrings based on a delimiter? "
   ]
  },
  {
   "cell_type": "markdown",
   "id": "bed3dd1e-c3d9-4d42-a79e-3d3350b3d6ad",
   "metadata": {},
   "source": [
    "Ans. By split() function we can split a string into a list of substrings based on delimiter. \n",
    "     "
   ]
  },
  {
   "cell_type": "markdown",
   "id": "2f538cd9-e4b4-4c03-b454-d30cfde72d5c",
   "metadata": {},
   "source": [
    "Delimiter is a character or sequence of characters used to define boundaries between elements in a string . "
   ]
  },
  {
   "cell_type": "code",
   "execution_count": 45,
   "id": "8eddcf07-ccca-47f0-94b0-0181a86224a9",
   "metadata": {},
   "outputs": [
    {
     "name": "stdout",
     "output_type": "stream",
     "text": [
      "['object', 'oriented', 'programming', 'language']\n"
     ]
    }
   ],
   "source": [
    "str8 = \"object oriented programming language\"   #string\n",
    "split_string = str8.split(\" \")                  #string_name.split(\"delimiter\") delimeter: space,@,# etc.\n",
    "print(split_string)"
   ]
  },
  {
   "cell_type": "markdown",
   "id": "0b136308-acba-4972-a669-69088c9a8dc0",
   "metadata": {},
   "source": [
    "# Q9. How do you check if a string starts with a particular substring?"
   ]
  },
  {
   "cell_type": "markdown",
   "id": "93ee383f-e9b6-4ed2-b3af-fbe4daca097f",
   "metadata": {},
   "source": [
    "Ans. By startswith() method we can checked string starts with a particular substring ."
   ]
  },
  {
   "cell_type": "code",
   "execution_count": 69,
   "id": "de79476e-c230-4aed-81f7-68b8ddaaf465",
   "metadata": {},
   "outputs": [
    {
     "name": "stdout",
     "output_type": "stream",
     "text": [
      "True\n"
     ]
    }
   ],
   "source": [
    "str9 = \"python , is, a, programming , language\"    #string with a substring\n",
    "string_startswith = str9.startswith(\"python\")      #string_name.startswith(prefix[end[start]])\n",
    "print(string_startswith)                             "
   ]
  },
  {
   "cell_type": "markdown",
   "id": "2d934161-d52e-46bc-91aa-5a5198dfc3d0",
   "metadata": {},
   "source": [
    "# Q10. How do you check if a string ends with a particular substring?"
   ]
  },
  {
   "cell_type": "markdown",
   "id": "60e1690a-3db2-4b49-a4d4-cbaaf610991d",
   "metadata": {},
   "source": [
    "Ans. By endswith() method , we can checked string ends with a particular substring."
   ]
  },
  {
   "cell_type": "code",
   "execution_count": 70,
   "id": "989db10c-f15a-4c9c-b3c6-8688393251a6",
   "metadata": {},
   "outputs": [
    {
     "name": "stdout",
     "output_type": "stream",
     "text": [
      "False\n"
     ]
    }
   ],
   "source": [
    "str10 = \"python , is, a, programming , language\"   #string within a substring\n",
    "string_endswith = str10.endswith(\"lan\")            #string_name.endswith()\n",
    "print(string_endswith)"
   ]
  },
  {
   "cell_type": "markdown",
   "id": "9fe8c73b-f9dd-4e01-bfec-23c8120d8d3c",
   "metadata": {},
   "source": [
    "# Q11. How can you remove leading and trailing whitespace from a string?"
   ]
  },
  {
   "cell_type": "code",
   "execution_count": 95,
   "id": "f69a07a9-8e76-4347-aef4-24fa630c2c5c",
   "metadata": {},
   "outputs": [],
   "source": [
    "#Ans. lstrip(): Removes only leading whitespace.\n",
    "     #rstrip(): Removes only trailing whitespace. \n",
    "       #strip(): Remove both leading and trailing."
   ]
  },
  {
   "cell_type": "code",
   "execution_count": 126,
   "id": "93234c80-8cd6-4b30-bdbe-63aa07a4698f",
   "metadata": {},
   "outputs": [
    {
     "name": "stdout",
     "output_type": "stream",
     "text": [
      "python    \n"
     ]
    }
   ],
   "source": [
    "#1st method\n",
    "#for remove the leading whitespace\n",
    "str11 = \"   python    \"              #string\n",
    "remove_leading = str11.lstrip()      #for remove the leading whitespace\n",
    "print(remove_leading)                  "
   ]
  },
  {
   "cell_type": "code",
   "execution_count": 127,
   "id": "444c68b5-e852-45f7-8d04-41f7563ee340",
   "metadata": {},
   "outputs": [
    {
     "name": "stdout",
     "output_type": "stream",
     "text": [
      "   python\n"
     ]
    }
   ],
   "source": [
    "#for remove the trailing whitespace\n",
    "str = \"   python   \"                  #string\n",
    "remove_trailing = str.rstrip()        #for remove the trailing whitespace\n",
    "print(remove_trailing)                "
   ]
  },
  {
   "cell_type": "code",
   "execution_count": 128,
   "id": "10d4fa87-9d95-49c1-aa61-1d223c250570",
   "metadata": {},
   "outputs": [
    {
     "name": "stdout",
     "output_type": "stream",
     "text": [
      "python\n"
     ]
    }
   ],
   "source": [
    "#for remove both together\n",
    "str0 = \"        python        \"       #string\n",
    "remove_both = str0.strip()            #for remove both trailing and leading\n",
    "print(remove_both)"
   ]
  },
  {
   "cell_type": "code",
   "execution_count": 129,
   "id": "85afd81d-3c56-4296-85f8-7427fd14999e",
   "metadata": {},
   "outputs": [
    {
     "data": {
      "text/plain": [
       "'san@ghy '"
      ]
     },
     "execution_count": 129,
     "metadata": {},
     "output_type": "execute_result"
    }
   ],
   "source": [
    "#2nd method \n",
    "#for removing the leading whitespace\n",
    "string = \" san@ghy \"                  #string\n",
    "string.removeprefix(\" \")              #for remove the leading whitspaces"
   ]
  },
  {
   "cell_type": "code",
   "execution_count": 130,
   "id": "fdd407b1-2ff1-445f-81c5-80e7a9207b14",
   "metadata": {},
   "outputs": [
    {
     "data": {
      "text/plain": [
       "' san@ghy'"
      ]
     },
     "execution_count": 130,
     "metadata": {},
     "output_type": "execute_result"
    }
   ],
   "source": [
    "#for removing the trailing whitespace\n",
    "string.removesuffix(\" \")              #for remove the trailing whitespace"
   ]
  },
  {
   "cell_type": "markdown",
   "id": "7b7378dd-f6e7-4216-a921-73006503e1b1",
   "metadata": {},
   "source": [
    "# Q12. What method is used to find the index of the first occurrence of a substring within a string?"
   ]
  },
  {
   "cell_type": "markdown",
   "id": "62be51d5-bb57-4301-a53f-64832321f57f",
   "metadata": {},
   "source": [
    "Ans. The find() method is commonly used to locate the index of the first occurrence of a substring within a string."
   ]
  },
  {
   "cell_type": "code",
   "execution_count": 131,
   "id": "15f4522f-773a-4886-8d1e-3107674d79d1",
   "metadata": {},
   "outputs": [
    {
     "name": "stdout",
     "output_type": "stream",
     "text": [
      "0\n"
     ]
    }
   ],
   "source": [
    "#1st method \n",
    "str12 = \"my , name , is , sanchit , shukla\"       #substring within a string\n",
    "find_index = str12.find(\"my\")                     #for only find first occur of substring index\n",
    "print(find_index)   "
   ]
  },
  {
   "cell_type": "code",
   "execution_count": 132,
   "id": "7f1b7c93-077a-49ec-ba52-0c65bff4dc26",
   "metadata": {},
   "outputs": [
    {
     "name": "stdout",
     "output_type": "stream",
     "text": [
      "['this', 'is', 'python']\n"
     ]
    }
   ],
   "source": [
    "# 2nd method \n",
    "string1 = \"this is python\"                      #string\n",
    "string = string1.split()                        #first split then indexing\n",
    "print(string)\n"
   ]
  },
  {
   "cell_type": "code",
   "execution_count": 133,
   "id": "c35d4160-b274-4471-b431-88a1c60e62b0",
   "metadata": {},
   "outputs": [
    {
     "data": {
      "text/plain": [
       "'this'"
      ]
     },
     "execution_count": 133,
     "metadata": {},
     "output_type": "execute_result"
    }
   ],
   "source": [
    "string[0]                                         #then apply indexing"
   ]
  },
  {
   "cell_type": "markdown",
   "id": "7ae3689b-a4b7-49f3-a68d-bc29dda65c17",
   "metadata": {},
   "source": [
    "# Q13. How can you count the number of occurrences of a substring within a string?"
   ]
  },
  {
   "cell_type": "markdown",
   "id": "bf7478bb-9247-4dcb-aca7-9c398a2db21c",
   "metadata": {},
   "source": [
    "Ans. The count() method is a simple and efficient way to count non-overlapping occurrences of a substring."
   ]
  },
  {
   "cell_type": "code",
   "execution_count": 137,
   "id": "97e82a3c-5fde-4cbb-94d8-142bc4b2ab59",
   "metadata": {},
   "outputs": [
    {
     "name": "stdout",
     "output_type": "stream",
     "text": [
      "8\n"
     ]
    }
   ],
   "source": [
    "str13 = \"hellohellohellohello\"                #substring within a string\n",
    "count_substring = str13.count(\"l\")            #string_name.count(\"enter the character or substring\") method \n",
    "print(count_substring)"
   ]
  },
  {
   "cell_type": "markdown",
   "id": "2b9413ad-aa76-43e6-b64a-60bf998896e3",
   "metadata": {},
   "source": [
    "# Q14. How do you check if a string contains only alphabetic characters?"
   ]
  },
  {
   "cell_type": "markdown",
   "id": "b239eda7-e813-4d98-bbdb-39d767e854c3",
   "metadata": {},
   "source": [
    "Ans. You can use the isalpha() method. This method returns True if all characters in the string are alphabetic and the string is not empty; otherwise, it returns False."
   ]
  },
  {
   "cell_type": "code",
   "execution_count": 140,
   "id": "15924b98-1098-43fc-8866-2ff862a05215",
   "metadata": {},
   "outputs": [
    {
     "name": "stdout",
     "output_type": "stream",
     "text": [
      "False\n"
     ]
    }
   ],
   "source": [
    "str14 = \"alpha1234\"               #string\n",
    "check_alpha = str14.isalpha()     #check alpha char by using method string_name.alpha()\n",
    "print(check_alpha)"
   ]
  },
  {
   "cell_type": "markdown",
   "id": "56befa17-306b-470e-b9f6-579ea40331dd",
   "metadata": {},
   "source": [
    "# Q15. How do you check if a string contains only numeric characters?"
   ]
  },
  {
   "cell_type": "markdown",
   "id": "cdba549c-48b9-4132-9f17-a888933405fd",
   "metadata": {},
   "source": [
    "Ans. You can use the isnumeric() method. This method returns True if all characters in the string are numeric and the string is not empty; otherwise, it returns False."
   ]
  },
  {
   "cell_type": "code",
   "execution_count": 144,
   "id": "866d2c92-623c-4c9f-a78a-2a267b6faa4f",
   "metadata": {},
   "outputs": [
    {
     "name": "stdout",
     "output_type": "stream",
     "text": [
      "False\n"
     ]
    }
   ],
   "source": [
    "str15 = \"alpha1234\"                  #string\n",
    "check_number = str14.isnumeric()     #check alpha char by using method string_name.numeric()\n",
    "print(check_number)"
   ]
  },
  {
   "cell_type": "markdown",
   "id": "881b3d46-fe2b-45bf-9eed-f19ac4118135",
   "metadata": {},
   "source": [
    "# Q16. How can you check if a string is a palindrome?"
   ]
  },
  {
   "cell_type": "markdown",
   "id": "706b6bb3-9f1f-4594-a349-221fda1edc2c",
   "metadata": {},
   "source": [
    "Ans. if string is equal to the reversed of the string so its palindrome otherwise no palindrome , it returns true or false."
   ]
  },
  {
   "cell_type": "code",
   "execution_count": 165,
   "id": "6a0b54af-a790-428d-ba27-9803763b6309",
   "metadata": {},
   "outputs": [
    {
     "name": "stdout",
     "output_type": "stream",
     "text": [
      "Python is not palindrome\n"
     ]
    }
   ],
   "source": [
    "# 1st method \n",
    "string16 = \"Python\"                           #string\n",
    "reverse_string =str[::-1]                     #reverse the string by slicing method\n",
    "palindrome = (string16 == reverse_string)     #palindrome means string = reverse of string\n",
    "if (palindrome==False):\n",
    "    print(\"Python is not palindrome\")\n",
    "else:\n",
    "    print(\"Python is palindrome\")\n"
   ]
  },
  {
   "cell_type": "code",
   "execution_count": 166,
   "id": "e6efc333-be46-4bd7-a06a-6dec7732f479",
   "metadata": {},
   "outputs": [
    {
     "data": {
      "text/plain": [
       "False"
      ]
     },
     "execution_count": 166,
     "metadata": {},
     "output_type": "execute_result"
    }
   ],
   "source": [
    "# 2nd method\n",
    "str16 = \"Python\"                           #string\n",
    "reversed_string = reversed(str16)          #by reversed method\n",
    "str16 == reversed_string                "
   ]
  },
  {
   "cell_type": "markdown",
   "id": "a3967cde-aef0-49db-96b9-f8f0584df027",
   "metadata": {},
   "source": [
    "# Q17. How can you reverse a string in Python?"
   ]
  },
  {
   "cell_type": "markdown",
   "id": "79584053-a027-4167-bfe3-cb5c067d4102",
   "metadata": {},
   "source": [
    "Ans. By using reversed() function or by slicing we can reversed the string in python."
   ]
  },
  {
   "cell_type": "code",
   "execution_count": 181,
   "id": "d4b02558-ca73-4e26-89e9-83bf2a060190",
   "metadata": {},
   "outputs": [
    {
     "name": "stdout",
     "output_type": "stream",
     "text": [
      "mom\n"
     ]
    }
   ],
   "source": [
    "#1st method\n",
    "str17 = \"mom\"                                  #string\n",
    "rev_string = \"\".join(reversed(str17))          #join + reversed \n",
    "print(rev_string)"
   ]
  },
  {
   "cell_type": "code",
   "execution_count": 184,
   "id": "4068476d-617a-4915-9d98-ad153fa55867",
   "metadata": {},
   "outputs": [
    {
     "name": "stdout",
     "output_type": "stream",
     "text": [
      "mom\n"
     ]
    }
   ],
   "source": [
    "#2nd method\n",
    "string17 = \"mom\"                             #string\n",
    "rever_string=string17[::-1]                  #reverse string by slicing\n",
    "print(rever_string)"
   ]
  },
  {
   "cell_type": "markdown",
   "id": "ef975194-37d8-4f1b-bc1f-13fcfbf79863",
   "metadata": {},
   "source": [
    "# Q18. How do you format a string with placeholders for variable values?"
   ]
  },
  {
   "cell_type": "markdown",
   "id": "9d5c5e08-ff28-4563-9a15-8e9140dac8d0",
   "metadata": {},
   "source": [
    "Ans. String formatting with placeholders allows you to dynamically insert variable values into a string."
   ]
  },
  {
   "cell_type": "code",
   "execution_count": 212,
   "id": "869a866d-75d3-4136-8d32-1225c5afd460",
   "metadata": {},
   "outputs": [
    {
     "name": "stdout",
     "output_type": "stream",
     "text": [
      "My name is Sanchit age is 22 city is faridabad\n"
     ]
    }
   ],
   "source": [
    "#1st method\n",
    "name = \"Sanchit\"\n",
    "age = 22\n",
    "city = \"faridabad\"\n",
    "print(f\"My name is {name} age is {age} city is {city}\")                  #by f-string method"
   ]
  },
  {
   "cell_type": "code",
   "execution_count": 213,
   "id": "9d69a25d-4990-40e7-9498-b6023b708677",
   "metadata": {},
   "outputs": [
    {
     "name": "stdout",
     "output_type": "stream",
     "text": [
      "My name is : Sanchit\n",
      "age is : 22\n",
      "city is : faridabad\n",
      "\n"
     ]
    }
   ],
   "source": [
    "#2nd method\n",
    "name = \"Sanchit\"\n",
    "age = 22\n",
    "city = \"faridabad\"\n",
    "print(\"My name is : {0}\\nage is : {1}\\ncity is : {2}\\n\" .format(name,age,city))    #by formatting  "
   ]
  },
  {
   "cell_type": "code",
   "execution_count": 211,
   "id": "b48e90d0-5cb2-4fb3-a3ce-0ffadae9638f",
   "metadata": {},
   "outputs": [
    {
     "name": "stdout",
     "output_type": "stream",
     "text": [
      "my name is Sanchit age is 22 city is faridabad\n"
     ]
    }
   ],
   "source": [
    "#3rd method\n",
    "name = \"Sanchit\"\n",
    "age = 22\n",
    "city = \"faridabad\"\n",
    "print(\"my name is %s age is %s city is %s\" %(name,age,city))     # % formatting method"
   ]
  },
  {
   "cell_type": "markdown",
   "id": "7a7fa31a-a1e0-43a5-9fd9-a3acd3ba4e12",
   "metadata": {},
   "source": [
    "# Q19. How do you access a substring of a string using slicing?"
   ]
  },
  {
   "cell_type": "markdown",
   "id": "212ad37c-5a24-4457-980c-dd3b139b73b5",
   "metadata": {},
   "source": [
    "Ans . By applying slicing we can access the substring of string byu applying right syntax : string_name[start:stop:step]  "
   ]
  },
  {
   "cell_type": "code",
   "execution_count": 218,
   "id": "e8926113-5afc-4d61-b8d7-93993e8c0231",
   "metadata": {},
   "outputs": [
    {
     "name": "stdout",
     "output_type": "stream",
     "text": [
      "hello\n"
     ]
    }
   ],
   "source": [
    "str19 = \"hello , world\"\n",
    "slice_string = str19[0:5]     #slicing 0:5 extract character index 0 to 4\n",
    "print(slice_string)"
   ]
  },
  {
   "cell_type": "markdown",
   "id": "aa6a9b54-66ea-4fa3-ae5d-ef693a0fd0bc",
   "metadata": {},
   "source": [
    "# Q20. How can you remove specific characters from a string in Python?"
   ]
  },
  {
   "cell_type": "markdown",
   "id": "14ffa2b3-64e8-4c3f-aacd-706feff6cd11",
   "metadata": {},
   "source": [
    "Ans. The replace() method replaces all occurrences of a specific character with an empty string (\"\"), effectively removing it."
   ]
  },
  {
   "cell_type": "code",
   "execution_count": 228,
   "id": "9a56614e-35c4-4d9d-885a-860b8ed77b69",
   "metadata": {},
   "outputs": [
    {
     "name": "stdout",
     "output_type": "stream",
     "text": [
      "hell wrld\n"
     ]
    }
   ],
   "source": [
    "#1st method \n",
    "str20 = \"hello world\"\n",
    "replace_string = str20.replace(\"o\",\"\")     #replace method (\"old\",\"new\")\n",
    "print(replace_string)"
   ]
  },
  {
   "cell_type": "code",
   "execution_count": 231,
   "id": "88d84006-a26e-4e9c-b33f-7a5ee494874d",
   "metadata": {},
   "outputs": [
    {
     "name": "stdout",
     "output_type": "stream",
     "text": [
      "pyhon\n"
     ]
    }
   ],
   "source": [
    "#2nd method \n",
    "string20 = \"python\"\n",
    "result = string20.translate(str.maketrans(\"\", \"\", \"t\"))      #apply tarbslate then maketrans\n",
    "print(result)"
   ]
  },
  {
   "cell_type": "code",
   "execution_count": null,
   "id": "40a51a85-ded8-4095-b4d0-2ed87ab2efdb",
   "metadata": {},
   "outputs": [],
   "source": []
  }
 ],
 "metadata": {
  "kernelspec": {
   "display_name": "Python 3 (ipykernel)",
   "language": "python",
   "name": "python3"
  },
  "language_info": {
   "codemirror_mode": {
    "name": "ipython",
    "version": 3
   },
   "file_extension": ".py",
   "mimetype": "text/x-python",
   "name": "python",
   "nbconvert_exporter": "python",
   "pygments_lexer": "ipython3",
   "version": "3.13.5"
  }
 },
 "nbformat": 4,
 "nbformat_minor": 5
}
